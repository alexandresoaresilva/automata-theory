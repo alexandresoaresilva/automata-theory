{
 "cells": [
  {
   "cell_type": "code",
   "execution_count": 3,
   "metadata": {},
   "outputs": [
    {
     "name": "stdout",
     "output_type": "stream",
     "text": [
      "for (1,1), 0\n",
      "for 10, 11\n"
     ]
    }
   ],
   "source": [
    "import numbers\n",
    "#ECE, Texas Tech\n",
    "#theory of automata HW#1\n",
    "#fall 2018, Dr. Nelson Rushton\n",
    "\n",
    "\n",
    "#ex. 13 implementation (assumed inputs: natural numbers or 2-tuples)\n",
    "def f(x):\n",
    "    if isinstance(x,numbers.Number) and x >= 0: return x+1\n",
    "    return x[0]-1\n",
    "\n",
    "print(\"for (1,1), \" + str(f((1,1))) )\n",
    "print(\"for 10, \" + str(f(10)) )"
   ]
  },
  {
   "cell_type": "code",
   "execution_count": 1,
   "metadata": {},
   "outputs": [
    {
     "data": {
      "text/plain": [
       "40"
      ]
     },
     "execution_count": 1,
     "metadata": {},
     "output_type": "execute_result"
    }
   ],
   "source": [
    "#ex. 14 implementation (Dr. Rushton's)\n",
    "def f(x):\n",
    "    if isinstance(x,int) and x >= 0: return x+20\n",
    "    return x[1]-1\n",
    "\n",
    "\n",
    "print(\"for (1,1), \" + str(f((1,1))) )\n",
    "print(\"for 20, \" + str( f(20) ) )"
   ]
  },
  {
   "cell_type": "code",
   "execution_count": 4,
   "metadata": {},
   "outputs": [
    {
     "data": {
      "text/plain": [
       "40"
      ]
     },
     "execution_count": 4,
     "metadata": {},
     "output_type": "execute_result"
    }
   ],
   "source": [
    "#ex. 15 implementation\n",
    "def f(x):\n",
    "    if x>=0: return 2*x\n",
    "    return -(2*x+1)\n",
    "print(\"for 0, \" + str(f(0))\n",
    "print(\"for 20, \" + str( f(20) )"
   ]
  },
  {
   "cell_type": "code",
   "execution_count": 5,
   "metadata": {},
   "outputs": [
    {
     "ename": "SyntaxError",
     "evalue": "invalid syntax (<ipython-input-5-cd11e8593f78>, line 5)",
     "output_type": "error",
     "traceback": [
      "\u001b[1;36m  File \u001b[1;32m\"<ipython-input-5-cd11e8593f78>\"\u001b[1;36m, line \u001b[1;32m5\u001b[0m\n\u001b[1;33m    print(\"for (2,0), \" + str(f(2,0))\u001b[0m\n\u001b[1;37m        ^\u001b[0m\n\u001b[1;31mSyntaxError\u001b[0m\u001b[1;31m:\u001b[0m invalid syntax\n"
     ]
    }
   ],
   "source": [
    "#ex. 16 implementation\n",
    "def f(x):\n",
    "    if isinstance(x,tuple) and len(x,2): \n",
    "        return (3**x[0]*5**x[1])\n",
    "print(\"for (0,0), \" + str(f(0,0))\n",
    "print(\"for (2,0), \" + str(f(2,0))"
   ]
  },
  {
   "cell_type": "code",
   "execution_count": null,
   "metadata": {},
   "outputs": [],
   "source": []
  },
  {
   "cell_type": "code",
   "execution_count": null,
   "metadata": {},
   "outputs": [],
   "source": []
  },
  {
   "cell_type": "code",
   "execution_count": null,
   "metadata": {},
   "outputs": [],
   "source": []
  },
  {
   "cell_type": "code",
   "execution_count": null,
   "metadata": {},
   "outputs": [],
   "source": []
  }
 ],
 "metadata": {
  "kernelspec": {
   "display_name": "Python 3",
   "language": "python",
   "name": "python3"
  },
  "language_info": {
   "codemirror_mode": {
    "name": "ipython",
    "version": 3
   },
   "file_extension": ".py",
   "mimetype": "text/x-python",
   "name": "python",
   "nbconvert_exporter": "python",
   "pygments_lexer": "ipython3",
   "version": "3.6.4"
  }
 },
 "nbformat": 4,
 "nbformat_minor": 2
}
